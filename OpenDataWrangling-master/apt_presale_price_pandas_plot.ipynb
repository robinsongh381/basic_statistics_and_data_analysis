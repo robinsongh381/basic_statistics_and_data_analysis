{
 "cells": [
  {
   "cell_type": "markdown",
   "metadata": {},
   "source": [
    "# 전국 신규 민간 아파트 분양가격 동향\n",
    "* 2015년 10월부터 2018년 7월까지\n",
    "* 주택분양보증을 받아 분양한 전체 민간 신규아파트 분양가격 동향\n",
    "* https://www.data.go.kr/dataset/3035522/fileData.do\n",
    "* 이 튜토리얼은 아파트 분양가에 대한 분석보다 파이썬 데이터 분석 방법을 배우는데 목적을 두고 있습니다.\n",
    "* 이 튜토리얼에서는 파이썬 데이터분석 도구인 Pandas를 활용합니다. Pandas에 대한 간략한 소개는 다음의 판다스 10분 완성 문서를 참고해 주시면 좋습니다. \n",
    "    * https://dataitgirls2.github.io/10minutes2pandas/\n",
    "* 이 튜토리얼은 데잇걸즈 2기와 파이콘 한국 2018에서 진행되기도 했습니다.\n",
    "* 다음의 경로에서 온라인 분석도구인 Colaboratory의 사본을 생성해서 직접 실행하는 실습을 진행해 보실 수도 있습니다.\n",
    "    * https://goo.gl/jSr7WU\n",
    "* 데이터 다운로드 : https://goo.gl/oJydAv "
   ]
  },
  {
   "cell_type": "markdown",
   "metadata": {},
   "source": [
    "## !중요\n",
    "### 버전과 한글폰트\n",
    "* 한글폰트 사용하기 : http://corazzon.github.io/matplotlib_font_setting"
   ]
  },
  {
   "cell_type": "code",
   "execution_count": null,
   "metadata": {},
   "outputs": [],
   "source": [
    "# 아래의 버전에 의존성이 있습니다. \n",
    "# 다음의 버전으로 설치해 주세요.\n",
    "# !pip install plotnine==0.5.0\n",
    "# !pip install pandas\n",
    "# !pip install folium==0.5.0\n",
    "# !pip install statsmodels -U\n",
    "# 시각화 도구 설치\n",
    "# !pip install missingno"
   ]
  },
  {
   "cell_type": "markdown",
   "metadata": {},
   "source": [
    "# 아나콘다 사용시 \n",
    "* Plotnine 설치 : https://anaconda.org/conda-forge/plotnine\n",
    "* missingno 설치 : https://anaconda.org/conda-forge/missingno"
   ]
  },
  {
   "cell_type": "code",
   "execution_count": null,
   "metadata": {},
   "outputs": [],
   "source": [
    "# !pip show plotnine"
   ]
  },
  {
   "cell_type": "code",
   "execution_count": null,
   "metadata": {},
   "outputs": [],
   "source": [
    "# !pip show missingno"
   ]
  },
  {
   "cell_type": "code",
   "execution_count": null,
   "metadata": {},
   "outputs": [],
   "source": [
    "import warnings\n",
    "warnings.filterwarnings('ignore')"
   ]
  },
  {
   "cell_type": "code",
   "execution_count": null,
   "metadata": {},
   "outputs": [],
   "source": [
    "import pandas as pd\n",
    "import numpy as np\n",
    "import re\n",
    "\n",
    "%matplotlib inline"
   ]
  },
  {
   "cell_type": "code",
   "execution_count": null,
   "metadata": {},
   "outputs": [],
   "source": [
    "# plotnine 이 import 되지 않는다면 아래 코드의 주석을 풀고 설치해 주세요.\n",
    "# !pip install statsmodels -U\n",
    "# from plotnine import *"
   ]
  },
  {
   "cell_type": "markdown",
   "metadata": {},
   "source": [
    "%을 사용하면 터미널에서 사용할 수 있는 유닉스 명령어를 사용하실 수 있습니다.\n",
    "경로를 불러오는 문제가 있을 때 이 방법을 사용하면 좋습니다."
   ]
  },
  {
   "cell_type": "code",
   "execution_count": null,
   "metadata": {},
   "outputs": [],
   "source": [
    "# 현재 위치정보를 봅니다.\n",
    "# %pwd"
   ]
  },
  {
   "cell_type": "code",
   "execution_count": null,
   "metadata": {},
   "outputs": [],
   "source": [
    "# 저는 data 폴더 아래에 apt_price 라는 폴더를 만들어 공공데이터 포털에서 다운로드 받은 데이터를 모아 두었습니다. \n",
    "# 해당 파일을 확인해 봅니다.\n",
    "%ls data/apt_price/"
   ]
  },
  {
   "cell_type": "code",
   "execution_count": null,
   "metadata": {},
   "outputs": [],
   "source": [
    "pre_sale = pd.read_csv('data/apt_price/주택도시보증공사_전국_평균_분양가격_2019.4월_.csv', \n",
    "                       encoding='euc-kr', engine='python')\n",
    "pre_sale.shape"
   ]
  },
  {
   "cell_type": "code",
   "execution_count": null,
   "metadata": {},
   "outputs": [],
   "source": [
    "# pre_sale = pd.read_csv('data/apt_price/전국_평균_분양가격_2018.7월_.csv', \n",
    "#                        encoding='euc-kr', engine='python')\n",
    "# pre_sale.shape"
   ]
  },
  {
   "cell_type": "code",
   "execution_count": null,
   "metadata": {},
   "outputs": [],
   "source": [
    "pre_sale.head()"
   ]
  },
  {
   "cell_type": "code",
   "execution_count": null,
   "metadata": {},
   "outputs": [],
   "source": [
    "pre_sale.tail()"
   ]
  },
  {
   "cell_type": "code",
   "execution_count": null,
   "metadata": {},
   "outputs": [],
   "source": [
    "# 분양가격이 숫자 타입이 아닙니다. 숫자 타입으로 변경해줄 필요가 있겠어요.\n",
    "pre_sale.info()"
   ]
  },
  {
   "cell_type": "code",
   "execution_count": null,
   "metadata": {},
   "outputs": [],
   "source": [
    "pre_sale.dtypes"
   ]
  },
  {
   "cell_type": "code",
   "execution_count": null,
   "metadata": {},
   "outputs": [],
   "source": [
    "pre_sale.isnull().sum()"
   ]
  },
  {
   "cell_type": "code",
   "execution_count": null,
   "metadata": {},
   "outputs": [],
   "source": [
    "import matplotlib.pyplot as plt\n",
    "\n",
    "# Window 의 한글 폰트 설정\n",
    "# plt.rc('font',family='Malgun Gothic')\n",
    "# Mac 의 한글 폰트 설정\n",
    "plt.rc('font', family='AppleGothic') "
   ]
  },
  {
   "cell_type": "code",
   "execution_count": null,
   "metadata": {},
   "outputs": [],
   "source": [
    "# 결측치 보기\n",
    "import missingno as msno\n",
    "msno.matrix(pre_sale, figsize=(18,6))"
   ]
  },
  {
   "cell_type": "code",
   "execution_count": null,
   "metadata": {},
   "outputs": [],
   "source": [
    "# 연도와 월은 카테고리 형태의 데이터이기 때문에 스트링 형태로 변경\n",
    "pre_sale['연도'] = pre_sale['연도'].astype(str)\n",
    "pre_sale['월'] = pre_sale['월'].astype(str)"
   ]
  },
  {
   "cell_type": "code",
   "execution_count": null,
   "metadata": {},
   "outputs": [],
   "source": [
    "pre_sale_price = pre_sale['분양가격(㎡)']\n",
    "pre_sale_price.head()"
   ]
  },
  {
   "cell_type": "code",
   "execution_count": null,
   "metadata": {},
   "outputs": [],
   "source": [
    "# 분양가격의 타입을 숫자로 변경해 줍니다.\n",
    "pre_sale['분양가격'] = pd.to_numeric(pre_sale_price, errors='coerce')\n",
    "# 평당 분양가격을 구해볼까요.\n",
    "pre_sale['평당분양가격'] = pre_sale['분양가격'] * 3.3"
   ]
  },
  {
   "cell_type": "code",
   "execution_count": null,
   "metadata": {},
   "outputs": [],
   "source": [
    "pre_sale.info()"
   ]
  },
  {
   "cell_type": "code",
   "execution_count": null,
   "metadata": {},
   "outputs": [],
   "source": [
    "pre_sale.dtypes"
   ]
  },
  {
   "cell_type": "code",
   "execution_count": null,
   "metadata": {
    "scrolled": true
   },
   "outputs": [],
   "source": [
    "# 분양가격에 결측치가 많이 있어요.\n",
    "pre_sale.isnull().sum()"
   ]
  },
  {
   "cell_type": "code",
   "execution_count": null,
   "metadata": {},
   "outputs": [],
   "source": [
    "pre_sale.describe()"
   ]
  },
  {
   "cell_type": "code",
   "execution_count": null,
   "metadata": {},
   "outputs": [],
   "source": [
    "# pre_sale.describe?"
   ]
  },
  {
   "cell_type": "code",
   "execution_count": null,
   "metadata": {},
   "outputs": [],
   "source": [
    "pre_sale.describe(include=[np.object])"
   ]
  },
  {
   "cell_type": "code",
   "execution_count": null,
   "metadata": {},
   "outputs": [],
   "source": [
    "# 2017년 데이터만 봅니다.\n",
    "pre_sale_2017 = pre_sale[pre_sale['연도'] == '2017']\n",
    "pre_sale_2017.shape"
   ]
  },
  {
   "cell_type": "code",
   "execution_count": null,
   "metadata": {},
   "outputs": [],
   "source": [
    "# 같은 값을 갖고 있는 걸로 시도별로 동일하게 데이터가 들어 있는 것을 확인할 수 있습니다.\n",
    "pre_sale['규모구분'].value_counts()"
   ]
  },
  {
   "cell_type": "code",
   "execution_count": null,
   "metadata": {},
   "outputs": [],
   "source": [
    "pre_sale['지역명'].value_counts()"
   ]
  },
  {
   "cell_type": "markdown",
   "metadata": {},
   "source": [
    "# 전국평균 분양가격\n",
    "* groupby 와 pivot_table 활용하기"
   ]
  },
  {
   "cell_type": "code",
   "execution_count": null,
   "metadata": {},
   "outputs": [],
   "source": [
    "# ?를 통해 도움말 보기\n",
    "# pre_sale.groupby?"
   ]
  },
  {
   "cell_type": "code",
   "execution_count": null,
   "metadata": {},
   "outputs": [],
   "source": [
    "# 분양가격만 봤을 때 2015년에서 2018년으로 갈수록 오른 것을 확인할 수 있습니다.\n",
    "# pd.options.display.float_format = '{:,.0f}'.format\n",
    "pre_sale.groupby(pre_sale.연도).describe().T"
   ]
  },
  {
   "cell_type": "markdown",
   "metadata": {},
   "source": [
    "## 규모별 전국 평균 분양가격"
   ]
  },
  {
   "cell_type": "code",
   "execution_count": null,
   "metadata": {},
   "outputs": [],
   "source": [
    "# ?로 도움말 보기\n",
    "# pre_sale.pivot_table?"
   ]
  },
  {
   "cell_type": "code",
   "execution_count": null,
   "metadata": {},
   "outputs": [],
   "source": [
    "pre_sale.pivot_table('평당분양가격', '규모구분', '연도')"
   ]
  },
  {
   "cell_type": "markdown",
   "metadata": {},
   "source": [
    "# 전국 분양가 변동금액\n",
    "규모구분이 전체로 되어있는 금액으로 연도별 변동금액을 살펴봅니다."
   ]
  },
  {
   "cell_type": "code",
   "execution_count": null,
   "metadata": {},
   "outputs": [],
   "source": [
    "# 규모구분에서 전체로 되어있는 데이터만 가져온다.\n",
    "region_year_all = pre_sale.loc[pre_sale['규모구분'] == '전체']\n",
    "region_year = region_year_all.pivot_table(\n",
    "    '평당분양가격', '지역명', '연도').reset_index()\n",
    "region_year"
   ]
  },
  {
   "cell_type": "code",
   "execution_count": null,
   "metadata": {},
   "outputs": [],
   "source": [
    "region_year['변동액'] = (region_year['2018'] - region_year['2015']\n",
    "                     ).astype(int)\n",
    "max_delta_price = np.max(region_year['변동액'])*1000\n",
    "min_delta_price = np.min(region_year['변동액'])*1000\n",
    "mean_delta_price = np.mean(region_year['변동액'])*1000\n",
    "\n",
    "print(f'2015년부터 2018년까지 분양가는 계속 상승했으며, 상승액이 가장 큰 지역은 제주이며 상승액은 평당 {max_delta_price:,.0f}원이다.')\n",
    "print(f'상승액이 가장 작은 지역은 울산이며 평당 {min_delta_price:,.0f}원이다.')\n",
    "print(f'하지만 나중에 살펴보겠지만 울산에는 결측치가 많다. 따라서 변동액이 가장 작다라고 판단하기 어렵다.')\n",
    "print(f'전국 평균 변동액은 평당 {mean_delta_price:,.0f}원이다.')\n",
    "\n",
    "region_year"
   ]
  },
  {
   "cell_type": "markdown",
   "metadata": {},
   "source": [
    "* 지금까지 2015년 10월에서 2018년 7월까지의 21개월간의 전국 신규 민간 아파트 분양가격 동향 파일을 요약해 봤습니다.\n",
    "* Pandas를 통해 데이터를 가져오고 요약해 보고 엑셀과 비슷하게 피봇테이블을 그려보기도 하고 groupby를 사용해서 데이터를 요약해 보기도 했습니다.\n",
    "\n",
    "# 시각화\n",
    "* 앤스콤의 4인방 영상 : https://www.youtube.com/watch?v=3KqdNNJ-20Y\n",
    "* 데이터를 시각화 해보기에 앞서 앤스콤의 4인방을 보겠습니다.\n",
    "* 아래 4개의 그래프는 다른 데이터로 그려졌습니다.\n",
    "* 또 이 4개의 데이터는 평균, 표준편차, 상관계수가 같습니다. 하지만 시각화 했을 때 전혀 다른 데이터임을 확인할 수 있습니다.\n",
    "* 이 앤스콤의 4인방은 요약된 데이터만으로 데이터를 판단할 수 없다는 것을 보여줍니다.\n",
    "* 데이터 시각화의 중요성을 얘기할 때 자주 등장하는 예시입니다.\n",
    "* [Anscombe's quartet - Wikipedia](https://en.wikipedia.org/wiki/Anscombe%27s_quartet)\n",
    "* [The Datasaurus Dozen - Same Stats, Different Graphs: Generating Datasets with Varied Appearance and Identical Statistics through Simulated Annealing | Autodesk Research](https://www.autodeskresearch.com/publications/samestats)"
   ]
  },
  {
   "cell_type": "markdown",
   "metadata": {},
   "source": [
    "![](https://upload.wikimedia.org/wikipedia/commons/thumb/e/ec/Anscombe%27s_quartet_3.svg/990px-Anscombe%27s_quartet_3.svg.png)"
   ]
  },
  {
   "cell_type": "markdown",
   "metadata": {},
   "source": [
    "## 이럴 때 이런 시각화\n",
    "* [분류:통계 차트와 다이어그램 - 위키백과, 우리 모두의 백과사전](https://ko.wikipedia.org/wiki/%EB%B6%84%EB%A5%98:%ED%86%B5%EA%B3%84_%EC%B0%A8%ED%8A%B8%EC%99%80_%EB%8B%A4%EC%9D%B4%EC%96%B4%EA%B7%B8%EB%9E%A8)\n",
    "\n",
    "\n",
    "## Pandas 로 시각화 하기\n",
    "* 공식 문서 : [Visualization — pandas 0.24.2 documentation](https://pandas.pydata.org/pandas-docs/stable/user_guide/visualization.html)\n",
    "\n",
    "## Seaborn 으로 시각화 하기\n",
    "* 공식 문서:[seaborn: statistical data visualization — seaborn 0.9.0 documentation](https://seaborn.pydata.org/)"
   ]
  },
  {
   "cell_type": "markdown",
   "metadata": {},
   "source": [
    "## 연도별 변동 그래프"
   ]
  },
  {
   "cell_type": "markdown",
   "metadata": {},
   "source": [
    "* 공공데이터포털에서 제공하고 있는 평균 분양가격을 연도, 지역별로 그려봄\n",
    "* 폰트 설정을 위해 Matplotlib의 환경설정에서 한글폰트 설정이 필요합니다.\n",
    "* 한글폰트를 지정해 주지 않는다면 글자가 두부모양으로 깨져보이게 됩니다."
   ]
  },
  {
   "cell_type": "code",
   "execution_count": null,
   "metadata": {},
   "outputs": [],
   "source": [
    "# (ggplot(region_year_all, aes(x='지역명', y='평당분양가격', fill='연도'))\n",
    "#  + geom_bar(stat='identity', position='dodge')\n",
    "#  + ggtitle('2015-2018년 신규 민간 아파트 분양가격')\n",
    "#  + theme(text=element_text(family='NanumBarunGothic'),\n",
    "#          figure_size=(8, 4))\n",
    "# )"
   ]
  },
  {
   "cell_type": "code",
   "execution_count": null,
   "metadata": {},
   "outputs": [],
   "source": [
    "import seaborn as sns\n",
    "# 아래의 코드로 스타일을 지정해 주면 폰트 설정이 초기화 됩니다. \n",
    "# 따라서, 폰트설정은 스타일 지정 이후에 해주셔야 합니다.\n",
    "sns.set_style(\"whitegrid\")"
   ]
  },
  {
   "cell_type": "code",
   "execution_count": null,
   "metadata": {},
   "outputs": [],
   "source": [
    "import matplotlib.pyplot as plt\n",
    "\n",
    "# Window 의 한글 폰트 설정\n",
    "# plt.rc('font',family='Malgun Gothic')\n",
    "# Mac 의 한글 폰트 설정\n",
    "plt.rc('font', family='AppleGothic') "
   ]
  },
  {
   "cell_type": "markdown",
   "metadata": {},
   "source": [
    "### 막대그래프\n",
    "* 막대 그래프(-graph), 바 차트(bar chart), 바 그래프(bar graph)는 표현 값에 비례하여 높이와 길이를 지닌 직사각형 막대로 범주형 데이터를 표현하는 차트나 그래프를 말한다. 막대는 수직으로나 수평으로 그릴 수 있다. 수직 막대 그래프는 선 그래프 또는 라인 그래프(line graph)라고도 한다.\n",
    "* 출처 : [막대 그래프 - 위키백과, 우리 모두의 백과사전](https://ko.wikipedia.org/wiki/%EB%A7%89%EB%8C%80_%EA%B7%B8%EB%9E%98%ED%94%84)"
   ]
  },
  {
   "cell_type": "markdown",
   "metadata": {},
   "source": [
    "## seaborn 으로 막대그래프 그리기"
   ]
  },
  {
   "cell_type": "code",
   "execution_count": null,
   "metadata": {},
   "outputs": [],
   "source": [
    "# 내부적으로 계산을 해서 그리기 때문에 속도가 좀 느립니다.\n",
    "# 하지만, seaborn 으로 시각화를 할 때는 내부적으로 계산을 해주기 때문에 \n",
    "# 따로 데이터를 aggregation 해주지 않아도 되는 장점이 있습니다.\n",
    "# seaborn 으로 시각화 했는지 여부는 그래프를 그리는 코드 앞부분에 sns 라는 별칭이 있는지 확인해 보시면 됩니다.\n",
    "plt.figure(figsize=(20, 8))\n",
    "plt.title('2015-2018년 신규 민간 아파트 분양가격')\n",
    "sns.barplot(data=region_year_all, x='지역명', y='평당분양가격', hue='연도')"
   ]
  },
  {
   "cell_type": "markdown",
   "metadata": {},
   "source": [
    "## 판다스로 막대그래프 그리기"
   ]
  },
  {
   "cell_type": "code",
   "execution_count": null,
   "metadata": {
    "scrolled": true
   },
   "outputs": [],
   "source": [
    "# pandas 로 시각화 하기위해 적합한 형태로 데이터를 변형합니다.\n",
    "# 지역별로 bar plot을 그리고 지역별 bar를 연도별로 그립니다.\n",
    "df_year_region = pd.pivot_table(region_year_all, \n",
    "                                index=['지역명'], columns='연도', values='평당분양가격')\n",
    "df_year_region.sample(3)"
   ]
  },
  {
   "cell_type": "code",
   "execution_count": null,
   "metadata": {},
   "outputs": [],
   "source": [
    "df_year_region.columns"
   ]
  },
  {
   "cell_type": "code",
   "execution_count": null,
   "metadata": {},
   "outputs": [],
   "source": [
    "df_year_region.plot.bar(figsize=(24, 8), \n",
    "                        grid=True, fontsize=20, rot=0, \n",
    "                        title='지역, 연도별 평당 평균 분양가')"
   ]
  },
  {
   "cell_type": "markdown",
   "metadata": {},
   "source": [
    "## 규모별 \n",
    "* seaborn의 barplot은 기본값을 평균으로 구합니다.\n",
    "* 각각의 막대 그래프 상단에 있는 검은색 선은 신뢰구간을 의미합니다.\n",
    "* 통계학에서 신뢰 구간(信賴區間, 영어: confidence interval)은 모수가 어느 범위 안에 있는지를 확률적으로 보여주는 방법이다. \n",
    "* 신뢰구간 정의 출처 : [신뢰 구간 - 위키백과, 우리 모두의 백과사전](https://ko.wikipedia.org/wiki/%EC%8B%A0%EB%A2%B0_%EA%B5%AC%EA%B0%84)\n",
    "* seaborn의 barplot의 옵션 중 ci가 이 신뢰 구간을 의미하며 기본값은 95입니다.\n",
    "* 표본의 95%의 데이터가 검은색 선 안에 위치하고 있음을 알 수 있습니다.\n",
    "* 나머지 5%의 데이터는 이 표본을 벗어나는 데이터로 너무 크거나 작은 데이터를 제외하고 볼 수 있습니다.\n",
    "* 따라서 이 검은색 선을 벗어나는 데이터는 이상치(outlier)로 볼 수도 있습니다."
   ]
  },
  {
   "cell_type": "code",
   "execution_count": null,
   "metadata": {},
   "outputs": [],
   "source": [
    "# 서울의 경우 전용면적 85㎡초과 102㎡이하가 분양가격이 가장 비싸게 나옵니다.\n",
    "# (ggplot(pre_sale, aes(x='지역명', y='평당분양가격', fill='규모구분'))\n",
    "#  + geom_bar(stat='identity', position='dodge')\n",
    "#  + ggtitle('규모별 신규 민간 아파트 분양가격')\n",
    "#  + theme(text=element_text(family='NanumBarunGothic'),\n",
    "#          figure_size=(8, 4))\n",
    "# )"
   ]
  },
  {
   "cell_type": "code",
   "execution_count": null,
   "metadata": {},
   "outputs": [],
   "source": [
    "# seaborn 을 사용하면 위 코드보다 훨씬 간결하게 코드를 구현할 수 있습니다.\n",
    "# seaborn 으로 지역, 규모별 평당 평균 분양가격\n",
    "plt.figure(figsize=(20, 8))\n",
    "sns.barplot(data=pre_sale, x='지역명', y='평당분양가격', hue='규모구분')"
   ]
  },
  {
   "cell_type": "markdown",
   "metadata": {},
   "source": [
    "## 지역별 평당 분양가격 합계\n",
    "* 아래 데이터로 규모(제곱미터)에 따른 평당 분양가격을 봅니다."
   ]
  },
  {
   "cell_type": "code",
   "execution_count": null,
   "metadata": {},
   "outputs": [],
   "source": [
    "pre_sale_size =  pre_sale.pivot_table(values='평당분양가격', index='지역명', columns='규모구분')\n",
    "pre_sale_size.sample(3)"
   ]
  },
  {
   "cell_type": "code",
   "execution_count": null,
   "metadata": {
    "scrolled": true
   },
   "outputs": [],
   "source": [
    "pre_sale_size.plot.bar(title='지역, 규모구분 별 평당 평균 분양가',\n",
    "                       figsize=(20, 8), grid=True, fontsize=20, rot=0)"
   ]
  },
  {
   "cell_type": "code",
   "execution_count": null,
   "metadata": {},
   "outputs": [],
   "source": [
    "pre_sale[(pre_sale[\"지역명\"] == \"대전\") & (pre_sale[\"규모구분\"] == \"전용면적 102㎡초과\")]"
   ]
  },
  {
   "cell_type": "code",
   "execution_count": null,
   "metadata": {},
   "outputs": [],
   "source": [
    "# 위에 그린 그래프를 지역별로 나눠 봅니다.\n",
    "# (ggplot(pre_sale)\n",
    "#  + aes(x='연도', y='평당분양가격', fill='규모구분')\n",
    "#  + geom_bar(stat='identity', position='dodge')\n",
    "#  + facet_wrap('지역명')\n",
    "#  + theme(text=element_text(family='NanumBarunGothic'),\n",
    "#          axis_text_x=element_text(rotation=70),\n",
    "#          figure_size=(12, 12))\n",
    "# )"
   ]
  },
  {
   "cell_type": "code",
   "execution_count": null,
   "metadata": {},
   "outputs": [],
   "source": [
    "pre_sale_size_t = pre_sale_size.T\n",
    "pre_sale_size_t"
   ]
  },
  {
   "cell_type": "markdown",
   "metadata": {},
   "source": [
    "## 전국 규모(면적)별 신규 민간 아파트 분양가격"
   ]
  },
  {
   "cell_type": "code",
   "execution_count": null,
   "metadata": {},
   "outputs": [],
   "source": [
    "pre_sale.sample()"
   ]
  },
  {
   "cell_type": "code",
   "execution_count": null,
   "metadata": {},
   "outputs": [],
   "source": [
    "pre_sale[[\"지역명\", \"평당분양가격\", \"규모구분\"]].sample(3)"
   ]
  },
  {
   "cell_type": "code",
   "execution_count": null,
   "metadata": {},
   "outputs": [],
   "source": [
    "pre_sale.shape"
   ]
  },
  {
   "cell_type": "code",
   "execution_count": null,
   "metadata": {},
   "outputs": [],
   "source": [
    "# 결측치를 확인합니다.\n",
    "pre_sale['평당분양가격'].isnull().sum()"
   ]
  },
  {
   "cell_type": "code",
   "execution_count": null,
   "metadata": {},
   "outputs": [],
   "source": [
    "# 결측치가 있으면 제대로 된 시각화를 할 수 없기 때문에 drop합니다.\n",
    "pre_sale['평당분양가격'].dropna(inplace=True, axis=0)"
   ]
  },
  {
   "cell_type": "code",
   "execution_count": null,
   "metadata": {},
   "outputs": [],
   "source": [
    "# 결측치가 없습니다.\n",
    "pre_sale['평당분양가격'].isnull().sum()"
   ]
  },
  {
   "cell_type": "code",
   "execution_count": null,
   "metadata": {},
   "outputs": [],
   "source": [
    "pre_sale.shape"
   ]
  },
  {
   "cell_type": "code",
   "execution_count": null,
   "metadata": {},
   "outputs": [],
   "source": [
    "pre_sale.dtypes"
   ]
  },
  {
   "cell_type": "code",
   "execution_count": null,
   "metadata": {},
   "outputs": [],
   "source": [
    "# 수치형 데이터로 변경합니다.\n",
    "pre_sale['평당분양가격'] = pre_sale['평당분양가격'].astype(int)"
   ]
  },
  {
   "cell_type": "code",
   "execution_count": null,
   "metadata": {},
   "outputs": [],
   "source": [
    "pre_sale[pre_sale['평당분양가격'] == 0]"
   ]
  },
  {
   "cell_type": "code",
   "execution_count": null,
   "metadata": {},
   "outputs": [],
   "source": [
    "pre_sale['규모구분'].unique()"
   ]
  },
  {
   "cell_type": "code",
   "execution_count": null,
   "metadata": {},
   "outputs": [],
   "source": [
    "pre_sale_size.sample(3)"
   ]
  },
  {
   "cell_type": "markdown",
   "metadata": {},
   "source": [
    "## box-and-whisker plot | diagram\n",
    "\n",
    "* https://pandas.pydata.org/pandas-docs/stable/user_guide/visualization.html\n",
    "* https://pandas.pydata.org/pandas-docs/stable/reference/api/pandas.DataFrame.boxplot.html\n",
    "\n",
    "* [상자 수염 그림 - 위키백과, 우리 모두의 백과사전](https://ko.wikipedia.org/wiki/%EC%83%81%EC%9E%90_%EC%88%98%EC%97%BC_%EA%B7%B8%EB%A6%BC)\n",
    "* 가공하지 않은 자료 그대로를 이용하여 그린 것이 아니라, 자료로부터 얻어낸 통계량인 5가지 요약 수치로 그린다.\n",
    "* 5가지 요약 수치란 기술통계학에서 자료의 정보를 알려주는 아래의 다섯 가지 수치를 의미한다.\n",
    "\n",
    "\n",
    "1. 최솟값\n",
    "1. 제 1사분위수\n",
    "1. 제 2사분위수( ), 즉 중앙값\n",
    "1. 제 3 사분위 수( )\n",
    "1. 최댓값\n",
    "\n",
    "* Box plot 이해하기 : [Understanding Boxplots – Towards Data Science](https://towardsdatascience.com/understanding-boxplots-5e2df7bcbd51)"
   ]
  },
  {
   "cell_type": "code",
   "execution_count": null,
   "metadata": {
    "scrolled": true
   },
   "outputs": [],
   "source": [
    "# 아래 그래프를 통해 지역마다 0 값이 존재하는 것으로 결측치가 있음을 확인할 수 있습니다.\n",
    "pre_sale[['지역명', '평당분양가격']].boxplot(by=['지역명'], figsize=(18, 6))"
   ]
  },
  {
   "cell_type": "code",
   "execution_count": null,
   "metadata": {
    "scrolled": true
   },
   "outputs": [],
   "source": [
    "pre_sale[['연도', '지역명', '평당분양가격']].boxplot(by=['연도'],figsize=(18, 6))"
   ]
  },
  {
   "cell_type": "code",
   "execution_count": null,
   "metadata": {},
   "outputs": [],
   "source": [
    "pre_sale[['연도', '지역명', '평당분양가격']].boxplot(\n",
    "    by=['지역명', '연도'],\n",
    "    figsize=(18, 6), \n",
    "    fontsize=12,\n",
    "    rot=60)"
   ]
  },
  {
   "cell_type": "code",
   "execution_count": null,
   "metadata": {},
   "outputs": [],
   "source": [
    "pre_sale_seoul = pre_sale[pre_sale['지역명']=='서울']\n",
    "\n",
    "# (ggplot(pre_sale_seoul)\n",
    "#  + aes(x='연도', y='평당분양가격', fill='규모구분')\n",
    "#  + ggtitle('서울 연도/규모별 신규 민간 아파트 분양가격')\n",
    "#  + geom_boxplot()\n",
    "#  + theme(text=element_text(family='NanumBarunGothic'))\n",
    "# )"
   ]
  },
  {
   "cell_type": "code",
   "execution_count": null,
   "metadata": {},
   "outputs": [],
   "source": [
    "# 이상치를 탐지해 보기에 적합합니다. 2017년 데이터에 평균 가격이 0으로 된 데이터가 있습니다.\n",
    "pre_sale_seoul[['연도', '규모구분', '평당분양가격']].boxplot(\n",
    "    by=['연도', '규모구분'],\n",
    "    figsize=(18, 6), rot=45)"
   ]
  },
  {
   "cell_type": "code",
   "execution_count": null,
   "metadata": {},
   "outputs": [],
   "source": [
    "# 2015년에서 2018년까지 분양가 차이가 가장 컸던 제주를 봅니다.\n",
    "pre_sale_jeju = pre_sale[pre_sale['지역명']=='제주']\n",
    "# (ggplot(pre_sale_jeju)\n",
    "#  + aes(x='연도', y='평당분양가격', fill='규모구분')\n",
    "#  + geom_boxplot()\n",
    "#  + theme(text=element_text(family='NanumBarunGothic'))\n",
    "# )"
   ]
  },
  {
   "cell_type": "code",
   "execution_count": null,
   "metadata": {},
   "outputs": [],
   "source": [
    "pre_sale_jeju[['연도', '평당분양가격']].boxplot(\n",
    "    by=['연도'],\n",
    "    figsize=(18, 6), rot=45)"
   ]
  },
  {
   "cell_type": "code",
   "execution_count": null,
   "metadata": {
    "scrolled": true
   },
   "outputs": [],
   "source": [
    "pre_sale_jeju[['연도', '규모구분', '평당분양가격']].boxplot(\n",
    "    by=['연도', '규모구분'],\n",
    "    figsize=(18, 6), rot=45)"
   ]
  },
  {
   "cell_type": "code",
   "execution_count": null,
   "metadata": {},
   "outputs": [],
   "source": [
    "pre_sale_ulsan = pre_sale[pre_sale['지역명']=='울산']\n",
    "# (ggplot(pre_sale_ulsan)\n",
    "#  + aes(x='연도', y='평당분양가격', fill='규모구분')\n",
    "#  + geom_boxplot()\n",
    "#  + theme(text=element_text(family='NanumBarunGothic'))\n",
    "# )\n",
    "pre_sale_ulsan[['연도', '규모구분', '평당분양가격']].boxplot(\n",
    "    by=['연도', '규모구분'],\n",
    "    figsize=(18, 6), rot=45)"
   ]
  },
  {
   "cell_type": "markdown",
   "metadata": {},
   "source": [
    "# Tidy Data 만들기\n",
    "* [Tidy data - Wikipedia](https://en.wikipedia.org/wiki/Tidy_data)\n",
    "## 2013년 12월~2015년 9월 3.3㎡당 분양가격\n",
    "* 2015년 10월부터 2018년 4월까지 데이터는 평당 분양가로 조정을 해주었었는데 이 데이터는 평당 분양가가 들어가 있습니다다.\n",
    "* `지역별_3.3㎡당_평균_분양가격_천원__15.09월.csv`을  https://www.data.go.kr/dataset/3035522/fileData.do 에서 다운로드 받거나 다음의 경로에서 다운로드 받습니다. https://goo.gl/oJydAv"
   ]
  },
  {
   "cell_type": "code",
   "execution_count": null,
   "metadata": {},
   "outputs": [],
   "source": [
    "df = pd.read_csv('data/apt_price/지역별_3.3㎡당_평균_분양가격_천원__15.09월.csv', \\\n",
    "                 encoding='euc-kr', skiprows=1, header=0, engine='python')\n",
    "df.shape"
   ]
  },
  {
   "cell_type": "code",
   "execution_count": null,
   "metadata": {},
   "outputs": [],
   "source": [
    "# pandas에서 보기 쉽게 컬럼을 변경해 줄 필요가 있습니다.\n",
    "df"
   ]
  },
  {
   "cell_type": "code",
   "execution_count": null,
   "metadata": {},
   "outputs": [],
   "source": [
    "year = df.iloc[0]\n",
    "month = df.iloc[1]"
   ]
  },
  {
   "cell_type": "code",
   "execution_count": null,
   "metadata": {},
   "outputs": [],
   "source": [
    "# 결측치를 채워줍니다.\n",
    "year"
   ]
  },
  {
   "cell_type": "code",
   "execution_count": null,
   "metadata": {},
   "outputs": [],
   "source": [
    "# 컬럼을 새로 만들어 주기 위해 0번째와 1번째 행을 합쳐준다.\n",
    "for i, y in enumerate(year):\n",
    "    if i > 2 and i < 15:\n",
    "        year[i] = ' '.join(['2014년', month[i]])\n",
    "    elif i >= 15:\n",
    "        year[i] = ' '.join(['2015년', month[i]])\n",
    "    elif i == 2 :\n",
    "        year[i] = ' '.join([year[i], month[i]])\n",
    "    elif i == 1:\n",
    "        year[i] = '시군구'\n",
    "        \n",
    "print(year)"
   ]
  },
  {
   "cell_type": "code",
   "execution_count": null,
   "metadata": {},
   "outputs": [],
   "source": [
    "df.columns = year"
   ]
  },
  {
   "cell_type": "code",
   "execution_count": null,
   "metadata": {},
   "outputs": [],
   "source": [
    "df = df.drop(df.index[[0,1]])\n",
    "df"
   ]
  },
  {
   "cell_type": "code",
   "execution_count": null,
   "metadata": {},
   "outputs": [],
   "source": [
    "# 최근 데이터의 컬럼으로 기존 데이터프레임과 합치기 위해 컬럼명을 봅니다.\n",
    "pre_sale.columns"
   ]
  },
  {
   "cell_type": "code",
   "execution_count": null,
   "metadata": {},
   "outputs": [],
   "source": [
    "# 지역 컬럼을 새로 만들어 시도와 시군구를 합쳐줍니다.\n",
    "# 결측치를 빈문자로 채웁니다.\n",
    "df['구분'] = df['구분'].fillna('')\n",
    "df['시군구'] = df['시군구'].fillna('')"
   ]
  },
  {
   "cell_type": "code",
   "execution_count": null,
   "metadata": {},
   "outputs": [],
   "source": [
    "df['지역'] = df['구분'] + df['시군구']"
   ]
  },
  {
   "cell_type": "code",
   "execution_count": null,
   "metadata": {},
   "outputs": [],
   "source": [
    "df['지역']"
   ]
  },
  {
   "cell_type": "code",
   "execution_count": null,
   "metadata": {},
   "outputs": [],
   "source": [
    "melt_columns = df.columns.copy()\n",
    "melt_columns"
   ]
  },
  {
   "cell_type": "code",
   "execution_count": null,
   "metadata": {},
   "outputs": [],
   "source": [
    "# pre_sale.sample(3)"
   ]
  },
  {
   "cell_type": "code",
   "execution_count": null,
   "metadata": {},
   "outputs": [],
   "source": [
    "df_2013_2015 = pd.melt(df, id_vars=['지역'], value_vars=['2013년 12월', '2014년 1월', '2014년 2월', '2014년 3월',\n",
    "       '2014년 4월', '2014년 5월', '2014년 6월', '2014년 7월', '2014년 8월',\n",
    "       '2014년 9월', '2014년 10월', '2014년 11월', '2014년 12월', '2015년 1월',\n",
    "       '2015년 2월', '2015년 3월', '2015년 4월', '2015년 5월', '2015년 6월',\n",
    "       '2015년 7월', '2015년 8월', '2015년 9월'])\n",
    "df_2013_2015.head()"
   ]
  },
  {
   "cell_type": "code",
   "execution_count": null,
   "metadata": {},
   "outputs": [],
   "source": [
    "df_2013_2015.columns = ['지역', '기간', '분양가']\n",
    "df_2013_2015.head()"
   ]
  },
  {
   "cell_type": "code",
   "execution_count": null,
   "metadata": {},
   "outputs": [],
   "source": [
    "year_test = ['2013', ' 12월']\n",
    "year_test[1].strip().replace('월', '')"
   ]
  },
  {
   "cell_type": "code",
   "execution_count": null,
   "metadata": {},
   "outputs": [],
   "source": [
    "# 간단하게 표현하기 위해서 lambda 익명함수로 구현했습니다.\n",
    "df_2013_2015['연도'] = df_2013_2015['기간'].apply(\n",
    "    lambda year_month : year_month.split('년')[0])\n",
    "df_2013_2015['월'] = df_2013_2015['기간'].apply(\n",
    "    lambda year_month : re.sub('월', '', year_month.split('년')[1]).strip())"
   ]
  },
  {
   "cell_type": "code",
   "execution_count": null,
   "metadata": {},
   "outputs": [],
   "source": [
    "# 익명함수가 익숙하지 않다면 아래의 방법대로 함수를 직접 구현하셔서 apply로 적용하는 방법도 있습니다.\n",
    "def get_year(year_month):\n",
    "    year = year_month.split('년')[0]\n",
    "    return year\n",
    "\n",
    "def get_month(year_month):\n",
    "    month = re.sub('월', '', year_month.split('년')[1]).strip()\n",
    "    return month"
   ]
  },
  {
   "cell_type": "code",
   "execution_count": null,
   "metadata": {},
   "outputs": [],
   "source": [
    "df_2013_2015['연도'] = df_2013_2015['기간'].apply(get_year)\n",
    "df_2013_2015['월'] = df_2013_2015['기간'].apply(get_month)"
   ]
  },
  {
   "cell_type": "code",
   "execution_count": null,
   "metadata": {},
   "outputs": [],
   "source": [
    "df_2013_2015.head()"
   ]
  },
  {
   "cell_type": "markdown",
   "metadata": {},
   "source": [
    "## 지역명 강원과 부산 정리"
   ]
  },
  {
   "cell_type": "code",
   "execution_count": null,
   "metadata": {},
   "outputs": [],
   "source": [
    "df_2013_2015['지역'].value_counts()"
   ]
  },
  {
   "cell_type": "code",
   "execution_count": null,
   "metadata": {},
   "outputs": [],
   "source": [
    "# lambda 익명함수를 이용해서 정규표현식으로 문자열을 바꿔주는 방법이 있습니다.\n",
    "# 하지만 좀 더 간단한 아래의 방법을 사용해 보겠습니다.\n",
    "# df_2013_2015['지역'] = df_2013_2015['지역'].apply(lambda x: re.sub('6대광역시부산','부산', x))\n",
    "# df_2013_2015['지역'] = df_2013_2015['지역'].apply(lambda x: re.sub('지방강원','강원', x))\n",
    "\n",
    "# 위와 같이 정규표현식의 기능을 활용할 수도 있으나 좀 더 간단한 replace를 사용합니다.\n",
    "df_2013_2015['지역'] = df_2013_2015['지역'].replace('6대광역시부산','부산')\n",
    "df_2013_2015['지역'] = df_2013_2015['지역'].replace('지방강원','강원')\n",
    "\n",
    "# 그룹화하여 카운트 합니다.\n",
    "df_2013_2015['지역'].value_counts()"
   ]
  },
  {
   "cell_type": "code",
   "execution_count": null,
   "metadata": {},
   "outputs": [],
   "source": [
    "df_2013_2015.describe()"
   ]
  },
  {
   "cell_type": "code",
   "execution_count": null,
   "metadata": {},
   "outputs": [],
   "source": [
    "df_2013_2015.info()"
   ]
  },
  {
   "cell_type": "code",
   "execution_count": null,
   "metadata": {},
   "outputs": [],
   "source": [
    "# 분양가에 있는 , 를 제거합니다.\n",
    "df_2013_2015['분양가격'] = df_2013_2015['분양가'].str.replace(',', '').astype(int)"
   ]
  },
  {
   "cell_type": "markdown",
   "metadata": {},
   "source": [
    "## 2013년 12월 부터 2015년 9월까지의 데이터 시각화 하기"
   ]
  },
  {
   "cell_type": "code",
   "execution_count": null,
   "metadata": {},
   "outputs": [],
   "source": [
    "# sns.boxplot?"
   ]
  },
  {
   "cell_type": "code",
   "execution_count": null,
   "metadata": {},
   "outputs": [],
   "source": [
    "plt.figure(figsize=(18, 6))\n",
    "sns.boxplot(data=df_2013_2015, x='지역', y='분양가격', hue='연도')"
   ]
  },
  {
   "cell_type": "code",
   "execution_count": null,
   "metadata": {},
   "outputs": [],
   "source": [
    "plt.figure(figsize=(18, 6))\n",
    "sns.barplot(data=df_2013_2015, x='지역', y='분양가격', hue='연도')"
   ]
  },
  {
   "cell_type": "code",
   "execution_count": null,
   "metadata": {},
   "outputs": [],
   "source": [
    "df_2013_2015[df_2013_2015.isnull()].shape"
   ]
  },
  {
   "cell_type": "markdown",
   "metadata": {},
   "source": [
    "## 이제 2013년부터 2018년 7월까지 데이터를 합칠 준비가 됨"
   ]
  },
  {
   "cell_type": "code",
   "execution_count": null,
   "metadata": {},
   "outputs": [],
   "source": [
    "df_2015_2018 = pre_sale.loc[pre_sale['규모구분'] == '전체']\n",
    "print(df_2015_2018.shape)\n",
    "df_2015_2018.head()"
   ]
  },
  {
   "cell_type": "code",
   "execution_count": null,
   "metadata": {},
   "outputs": [],
   "source": [
    "df_2013_2015.columns"
   ]
  },
  {
   "cell_type": "code",
   "execution_count": null,
   "metadata": {},
   "outputs": [],
   "source": [
    "df_2013_2015_prepare = df_2013_2015[['지역', '연도', '월', '분양가격']]\n",
    "df_2013_2015_prepare.head()"
   ]
  },
  {
   "cell_type": "code",
   "execution_count": null,
   "metadata": {},
   "outputs": [],
   "source": [
    "df_2013_2015_prepare.columns = ['지역명', '연도', '월', '평당분양가격']"
   ]
  },
  {
   "cell_type": "code",
   "execution_count": null,
   "metadata": {},
   "outputs": [],
   "source": [
    "df_2015_2018.columns"
   ]
  },
  {
   "cell_type": "code",
   "execution_count": null,
   "metadata": {},
   "outputs": [],
   "source": [
    "df_2015_2018_prepare = df_2015_2018[['지역명', '연도', '월', '평당분양가격']]\n",
    "df_2015_2018_prepare.head()"
   ]
  },
  {
   "cell_type": "code",
   "execution_count": null,
   "metadata": {},
   "outputs": [],
   "source": [
    "df_2015_2018_prepare.describe()"
   ]
  },
  {
   "cell_type": "code",
   "execution_count": null,
   "metadata": {},
   "outputs": [],
   "source": [
    "df_2013_2018 = pd.concat([df_2013_2015_prepare, df_2015_2018_prepare])\n",
    "df_2013_2018.shape"
   ]
  },
  {
   "cell_type": "code",
   "execution_count": null,
   "metadata": {},
   "outputs": [],
   "source": [
    "df_2013_2018.head()"
   ]
  },
  {
   "cell_type": "code",
   "execution_count": null,
   "metadata": {},
   "outputs": [],
   "source": [
    "df_2013_2018.tail()"
   ]
  },
  {
   "cell_type": "code",
   "execution_count": null,
   "metadata": {},
   "outputs": [],
   "source": [
    "df_2013_2015_region= df_2013_2015_prepare['지역명'].unique()\n",
    "df_2013_2015_region"
   ]
  },
  {
   "cell_type": "code",
   "execution_count": null,
   "metadata": {},
   "outputs": [],
   "source": [
    "df_2015_2018_region = df_2015_2018_prepare['지역명'].unique()\n",
    "df_2015_2018_region"
   ]
  },
  {
   "cell_type": "code",
   "execution_count": null,
   "metadata": {},
   "outputs": [],
   "source": [
    "exclude_region = [region for region in df_2013_2015_region if not region in df_2015_2018_region] \n",
    "exclude_region"
   ]
  },
  {
   "cell_type": "code",
   "execution_count": null,
   "metadata": {},
   "outputs": [],
   "source": [
    "df_2013_2018.shape"
   ]
  },
  {
   "cell_type": "code",
   "execution_count": null,
   "metadata": {},
   "outputs": [],
   "source": [
    "df_2013_2018.loc[df_2013_2018['지역명'].str.match('전국|수도권')].head()"
   ]
  },
  {
   "cell_type": "code",
   "execution_count": null,
   "metadata": {},
   "outputs": [],
   "source": [
    "df_2013_2018.drop(\n",
    "    df_2013_2018.loc[df_2013_2018['지역명'].str.match('전국|수도권')].index, \n",
    "    axis=0, \n",
    "    inplace=True)\n",
    "df_2013_2018.drop(\n",
    "    df_2013_2018.loc[df_2013_2018['지역명'] == ''].index, \n",
    "    axis=0, \n",
    "    inplace=True)"
   ]
  },
  {
   "cell_type": "markdown",
   "metadata": {},
   "source": [
    "## 2013년 12월~2018년 7월 전국 신규 민간 아파트 분양가격 동향 시각화"
   ]
  },
  {
   "cell_type": "code",
   "execution_count": null,
   "metadata": {},
   "outputs": [],
   "source": [
    "# 판다스로 시각화 할 때는 미리 구하고자 하는 데이터를 요약해 두는 것이 좋습니다.\n",
    "df_year_mean = df_2013_2018.groupby(['연도'])['평당분양가격'].mean()\n",
    "df_year_mean"
   ]
  },
  {
   "cell_type": "code",
   "execution_count": null,
   "metadata": {},
   "outputs": [],
   "source": [
    "df_year_mean.plot.bar(rot=0)"
   ]
  },
  {
   "cell_type": "code",
   "execution_count": null,
   "metadata": {},
   "outputs": [],
   "source": [
    "sns.barplot(data=df_2013_2018, x='연도', y='평당분양가격')"
   ]
  },
  {
   "cell_type": "code",
   "execution_count": null,
   "metadata": {},
   "outputs": [],
   "source": [
    "df_2015_2018_prepare[['연도', '지역명', '평당분양가격']].boxplot(by=['연도'], figsize=(12, 6))"
   ]
  },
  {
   "cell_type": "code",
   "execution_count": null,
   "metadata": {
    "scrolled": false
   },
   "outputs": [],
   "source": [
    "df_2013_2018[['연도', '지역명', '평당분양가격']].boxplot(by=['연도'], figsize=(12, 6))"
   ]
  },
  {
   "cell_type": "code",
   "execution_count": null,
   "metadata": {},
   "outputs": [],
   "source": [
    "df_2013_2018_jeju = df_2013_2018.loc[df_2013_2018['지역명'] == '제주']\n",
    "df_2013_2018_jeju[['연도', '지역명', '평당분양가격']].boxplot(by=['연도'], figsize=(12, 6))"
   ]
  },
  {
   "cell_type": "code",
   "execution_count": null,
   "metadata": {},
   "outputs": [],
   "source": [
    "df_2013_2018_jeju[\"연도\"].value_counts()"
   ]
  },
  {
   "cell_type": "markdown",
   "metadata": {},
   "source": [
    "# 인프런 스터디 1주차 과제\n",
    "\n",
    "1. 공공데이터 포털에 있는 최근 데이터를 다운로드 받습니다.\n",
    "1. 가장 상단의 데이터를 불러오는 부분에서 최근 데이터를 불러옵니다.\n",
    "1. concat 후에 시각화를 할 때, 지역별, 그리고 제주를 제외한 다른 지역을 가져와서 시각화 해봅니다.\n",
    "1. 과제를 진행하시며 어려운 점은 언제든 슬랙으로 문의주세요 :)"
   ]
  },
  {
   "cell_type": "code",
   "execution_count": null,
   "metadata": {},
   "outputs": [],
   "source": []
  }
 ],
 "metadata": {
  "kernelspec": {
   "display_name": "Python 3",
   "language": "python",
   "name": "python3"
  },
  "language_info": {
   "codemirror_mode": {
    "name": "ipython",
    "version": 3
   },
   "file_extension": ".py",
   "mimetype": "text/x-python",
   "name": "python",
   "nbconvert_exporter": "python",
   "pygments_lexer": "ipython3",
   "version": "3.6.1"
  },
  "varInspector": {
   "cols": {
    "lenName": 16,
    "lenType": 16,
    "lenVar": 40
   },
   "kernels_config": {
    "python": {
     "delete_cmd_postfix": "",
     "delete_cmd_prefix": "del ",
     "library": "var_list.py",
     "varRefreshCmd": "print(var_dic_list())"
    },
    "r": {
     "delete_cmd_postfix": ") ",
     "delete_cmd_prefix": "rm(",
     "library": "var_list.r",
     "varRefreshCmd": "cat(var_dic_list()) "
    }
   },
   "types_to_exclude": [
    "module",
    "function",
    "builtin_function_or_method",
    "instance",
    "_Feature"
   ],
   "window_display": false
  }
 },
 "nbformat": 4,
 "nbformat_minor": 2
}
